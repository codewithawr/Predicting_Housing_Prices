{
 "cells": [
  {
   "attachments": {},
   "cell_type": "markdown",
   "id": "ad842d4d",
   "metadata": {
    "papermill": {
     "duration": 0.011531,
     "end_time": "2023-07-18T19:08:14.209572",
     "exception": false,
     "start_time": "2023-07-18T19:08:14.198041",
     "status": "completed"
    },
    "tags": []
   },
   "source": [
    "## Importing libraries"
   ]
  },
  {
   "cell_type": "code",
   "execution_count": 17,
   "id": "943a7508",
   "metadata": {
    "execution": {
     "iopub.execute_input": "2023-07-18T19:08:14.235477Z",
     "iopub.status.busy": "2023-07-18T19:08:14.235044Z",
     "iopub.status.idle": "2023-07-18T19:08:16.400359Z",
     "shell.execute_reply": "2023-07-18T19:08:16.398799Z"
    },
    "papermill": {
     "duration": 2.181943,
     "end_time": "2023-07-18T19:08:16.403812",
     "exception": false,
     "start_time": "2023-07-18T19:08:14.221869",
     "status": "completed"
    },
    "tags": []
   },
   "outputs": [],
   "source": [
    "# train_test_split for spliting data in two 80% 20% blocks\n",
    "from sklearn.model_selection import train_test_split\n",
    "\n",
    "# main models from scikit learn\n",
    "# from sklearn.tree import DecisionTreeRegressor\n",
    "# from sklearn.ensemble import RandomForestRegressor\n",
    "from xgboost import XGBRegressor\n",
    "\n",
    "# for chacking defrent in preduction and actule data\n",
    "from sklearn.metrics import mean_absolute_error, r2_score\n",
    "\n",
    "from sklearn.preprocessing import OneHotEncoder\n",
    "\n",
    "from sklearn.impute import SimpleImputer\n",
    "\n",
    "# import numpy as np # linear algebra\n",
    "import pandas as pd # data processing, CSV file I/O (e.g. pd.read_csv)\n",
    "\n",
    "# pd.set_option('display.max_rows', None)"
   ]
  },
  {
   "attachments": {},
   "cell_type": "markdown",
   "id": "b4cf954f",
   "metadata": {
    "papermill": {
     "duration": 0.011464,
     "end_time": "2023-07-18T19:08:16.427895",
     "exception": false,
     "start_time": "2023-07-18T19:08:16.416431",
     "status": "completed"
    },
    "tags": []
   },
   "source": [
    "## Data lording"
   ]
  },
  {
   "cell_type": "code",
   "execution_count": 16,
   "id": "8d1e392a",
   "metadata": {
    "_cell_guid": "b1076dfc-b9ad-4769-8c92-a6c4dae69d19",
    "_uuid": "8f2839f25d086af736a60e9eeb907d3b93b6e0e5",
    "execution": {
     "iopub.execute_input": "2023-07-18T19:08:14.169017Z",
     "iopub.status.busy": "2023-07-18T19:08:14.168618Z",
     "iopub.status.idle": "2023-07-18T19:08:14.183127Z",
     "shell.execute_reply": "2023-07-18T19:08:14.182322Z"
    },
    "papermill": {
     "duration": 0.033043,
     "end_time": "2023-07-18T19:08:14.185672",
     "exception": false,
     "start_time": "2023-07-18T19:08:14.152629",
     "status": "completed"
    },
    "tags": []
   },
   "outputs": [
    {
     "name": "stdout",
     "output_type": "stream",
     "text": [
      "data\\data_description.txt\n",
      "data\\sample_submission.csv\n",
      "data\\sample_submission.csv.gz\n",
      "data\\test.csv\n",
      "data\\test.csv.gz\n",
      "data\\train.csv\n",
      "data\\train.csv.gz\n"
     ]
    }
   ],
   "source": [
    "import os\n",
    "for dirname, _, filenames in os.walk('data'):\n",
    "    for filename in filenames:\n",
    "        print(os.path.join(dirname, filename))"
   ]
  },
  {
   "cell_type": "code",
   "execution_count": 18,
   "id": "d5bfe5aa",
   "metadata": {
    "execution": {
     "iopub.execute_input": "2023-07-18T19:08:16.455650Z",
     "iopub.status.busy": "2023-07-18T19:08:16.454484Z",
     "iopub.status.idle": "2023-07-18T19:08:16.515613Z",
     "shell.execute_reply": "2023-07-18T19:08:16.514563Z"
    },
    "papermill": {
     "duration": 0.078189,
     "end_time": "2023-07-18T19:08:16.518503",
     "exception": false,
     "start_time": "2023-07-18T19:08:16.440314",
     "status": "completed"
    },
    "tags": []
   },
   "outputs": [],
   "source": [
    "train_data_path = 'data\\\\train.csv'\n",
    "test_data_path = 'data\\\\test.csv'\n",
    "main_data = pd.read_csv(train_data_path)"
   ]
  },
  {
   "attachments": {},
   "cell_type": "markdown",
   "id": "c7c82d9b",
   "metadata": {
    "papermill": {
     "duration": 0.01183,
     "end_time": "2023-07-18T19:08:16.543616",
     "exception": false,
     "start_time": "2023-07-18T19:08:16.531786",
     "status": "completed"
    },
    "tags": []
   },
   "source": [
    "## Exploring Data\n",
    "- All columns name\n",
    "- Describe data\n",
    "- Missing values"
   ]
  },
  {
   "cell_type": "code",
   "execution_count": 19,
   "id": "520f77a0",
   "metadata": {
    "execution": {
     "iopub.execute_input": "2023-07-18T19:08:16.570567Z",
     "iopub.status.busy": "2023-07-18T19:08:16.569682Z",
     "iopub.status.idle": "2023-07-18T19:08:16.579986Z",
     "shell.execute_reply": "2023-07-18T19:08:16.578509Z"
    },
    "papermill": {
     "duration": 0.026551,
     "end_time": "2023-07-18T19:08:16.582778",
     "exception": false,
     "start_time": "2023-07-18T19:08:16.556227",
     "status": "completed"
    },
    "tags": []
   },
   "outputs": [
    {
     "data": {
      "text/plain": [
       "Index(['Id', 'MSSubClass', 'MSZoning', 'LotFrontage', 'LotArea', 'Street',\n",
       "       'Alley', 'LotShape', 'LandContour', 'Utilities', 'LotConfig',\n",
       "       'LandSlope', 'Neighborhood', 'Condition1', 'Condition2', 'BldgType',\n",
       "       'HouseStyle', 'OverallQual', 'OverallCond', 'YearBuilt', 'YearRemodAdd',\n",
       "       'RoofStyle', 'RoofMatl', 'Exterior1st', 'Exterior2nd', 'MasVnrType',\n",
       "       'MasVnrArea', 'ExterQual', 'ExterCond', 'Foundation', 'BsmtQual',\n",
       "       'BsmtCond', 'BsmtExposure', 'BsmtFinType1', 'BsmtFinSF1',\n",
       "       'BsmtFinType2', 'BsmtFinSF2', 'BsmtUnfSF', 'TotalBsmtSF', 'Heating',\n",
       "       'HeatingQC', 'CentralAir', 'Electrical', '1stFlrSF', '2ndFlrSF',\n",
       "       'LowQualFinSF', 'GrLivArea', 'BsmtFullBath', 'BsmtHalfBath', 'FullBath',\n",
       "       'HalfBath', 'BedroomAbvGr', 'KitchenAbvGr', 'KitchenQual',\n",
       "       'TotRmsAbvGrd', 'Functional', 'Fireplaces', 'FireplaceQu', 'GarageType',\n",
       "       'GarageYrBlt', 'GarageFinish', 'GarageCars', 'GarageArea', 'GarageQual',\n",
       "       'GarageCond', 'PavedDrive', 'WoodDeckSF', 'OpenPorchSF',\n",
       "       'EnclosedPorch', '3SsnPorch', 'ScreenPorch', 'PoolArea', 'PoolQC',\n",
       "       'Fence', 'MiscFeature', 'MiscVal', 'MoSold', 'YrSold', 'SaleType',\n",
       "       'SaleCondition', 'SalePrice'],\n",
       "      dtype='object')"
      ]
     },
     "execution_count": 19,
     "metadata": {},
     "output_type": "execute_result"
    }
   ],
   "source": [
    "main_data.columns"
   ]
  },
  {
   "cell_type": "code",
   "execution_count": 20,
   "id": "08c4d1da",
   "metadata": {
    "execution": {
     "iopub.execute_input": "2023-07-18T19:08:16.609551Z",
     "iopub.status.busy": "2023-07-18T19:08:16.608385Z",
     "iopub.status.idle": "2023-07-18T19:08:16.754990Z",
     "shell.execute_reply": "2023-07-18T19:08:16.753732Z"
    },
    "papermill": {
     "duration": 0.162974,
     "end_time": "2023-07-18T19:08:16.757906",
     "exception": false,
     "start_time": "2023-07-18T19:08:16.594932",
     "status": "completed"
    },
    "tags": []
   },
   "outputs": [
    {
     "data": {
      "text/html": [
       "<div>\n",
       "<style scoped>\n",
       "    .dataframe tbody tr th:only-of-type {\n",
       "        vertical-align: middle;\n",
       "    }\n",
       "\n",
       "    .dataframe tbody tr th {\n",
       "        vertical-align: top;\n",
       "    }\n",
       "\n",
       "    .dataframe thead th {\n",
       "        text-align: right;\n",
       "    }\n",
       "</style>\n",
       "<table border=\"1\" class=\"dataframe\">\n",
       "  <thead>\n",
       "    <tr style=\"text-align: right;\">\n",
       "      <th></th>\n",
       "      <th>Id</th>\n",
       "      <th>MSSubClass</th>\n",
       "      <th>LotFrontage</th>\n",
       "      <th>LotArea</th>\n",
       "      <th>OverallQual</th>\n",
       "      <th>OverallCond</th>\n",
       "      <th>YearBuilt</th>\n",
       "      <th>YearRemodAdd</th>\n",
       "      <th>MasVnrArea</th>\n",
       "      <th>BsmtFinSF1</th>\n",
       "      <th>...</th>\n",
       "      <th>WoodDeckSF</th>\n",
       "      <th>OpenPorchSF</th>\n",
       "      <th>EnclosedPorch</th>\n",
       "      <th>3SsnPorch</th>\n",
       "      <th>ScreenPorch</th>\n",
       "      <th>PoolArea</th>\n",
       "      <th>MiscVal</th>\n",
       "      <th>MoSold</th>\n",
       "      <th>YrSold</th>\n",
       "      <th>SalePrice</th>\n",
       "    </tr>\n",
       "  </thead>\n",
       "  <tbody>\n",
       "    <tr>\n",
       "      <th>count</th>\n",
       "      <td>1460.000000</td>\n",
       "      <td>1460.000000</td>\n",
       "      <td>1201.000000</td>\n",
       "      <td>1460.000000</td>\n",
       "      <td>1460.000000</td>\n",
       "      <td>1460.000000</td>\n",
       "      <td>1460.000000</td>\n",
       "      <td>1460.000000</td>\n",
       "      <td>1452.000000</td>\n",
       "      <td>1460.000000</td>\n",
       "      <td>...</td>\n",
       "      <td>1460.000000</td>\n",
       "      <td>1460.000000</td>\n",
       "      <td>1460.000000</td>\n",
       "      <td>1460.000000</td>\n",
       "      <td>1460.000000</td>\n",
       "      <td>1460.000000</td>\n",
       "      <td>1460.000000</td>\n",
       "      <td>1460.000000</td>\n",
       "      <td>1460.000000</td>\n",
       "      <td>1460.000000</td>\n",
       "    </tr>\n",
       "    <tr>\n",
       "      <th>mean</th>\n",
       "      <td>730.500000</td>\n",
       "      <td>56.897260</td>\n",
       "      <td>70.049958</td>\n",
       "      <td>10516.828082</td>\n",
       "      <td>6.099315</td>\n",
       "      <td>5.575342</td>\n",
       "      <td>1971.267808</td>\n",
       "      <td>1984.865753</td>\n",
       "      <td>103.685262</td>\n",
       "      <td>443.639726</td>\n",
       "      <td>...</td>\n",
       "      <td>94.244521</td>\n",
       "      <td>46.660274</td>\n",
       "      <td>21.954110</td>\n",
       "      <td>3.409589</td>\n",
       "      <td>15.060959</td>\n",
       "      <td>2.758904</td>\n",
       "      <td>43.489041</td>\n",
       "      <td>6.321918</td>\n",
       "      <td>2007.815753</td>\n",
       "      <td>180921.195890</td>\n",
       "    </tr>\n",
       "    <tr>\n",
       "      <th>std</th>\n",
       "      <td>421.610009</td>\n",
       "      <td>42.300571</td>\n",
       "      <td>24.284752</td>\n",
       "      <td>9981.264932</td>\n",
       "      <td>1.382997</td>\n",
       "      <td>1.112799</td>\n",
       "      <td>30.202904</td>\n",
       "      <td>20.645407</td>\n",
       "      <td>181.066207</td>\n",
       "      <td>456.098091</td>\n",
       "      <td>...</td>\n",
       "      <td>125.338794</td>\n",
       "      <td>66.256028</td>\n",
       "      <td>61.119149</td>\n",
       "      <td>29.317331</td>\n",
       "      <td>55.757415</td>\n",
       "      <td>40.177307</td>\n",
       "      <td>496.123024</td>\n",
       "      <td>2.703626</td>\n",
       "      <td>1.328095</td>\n",
       "      <td>79442.502883</td>\n",
       "    </tr>\n",
       "    <tr>\n",
       "      <th>min</th>\n",
       "      <td>1.000000</td>\n",
       "      <td>20.000000</td>\n",
       "      <td>21.000000</td>\n",
       "      <td>1300.000000</td>\n",
       "      <td>1.000000</td>\n",
       "      <td>1.000000</td>\n",
       "      <td>1872.000000</td>\n",
       "      <td>1950.000000</td>\n",
       "      <td>0.000000</td>\n",
       "      <td>0.000000</td>\n",
       "      <td>...</td>\n",
       "      <td>0.000000</td>\n",
       "      <td>0.000000</td>\n",
       "      <td>0.000000</td>\n",
       "      <td>0.000000</td>\n",
       "      <td>0.000000</td>\n",
       "      <td>0.000000</td>\n",
       "      <td>0.000000</td>\n",
       "      <td>1.000000</td>\n",
       "      <td>2006.000000</td>\n",
       "      <td>34900.000000</td>\n",
       "    </tr>\n",
       "    <tr>\n",
       "      <th>25%</th>\n",
       "      <td>365.750000</td>\n",
       "      <td>20.000000</td>\n",
       "      <td>59.000000</td>\n",
       "      <td>7553.500000</td>\n",
       "      <td>5.000000</td>\n",
       "      <td>5.000000</td>\n",
       "      <td>1954.000000</td>\n",
       "      <td>1967.000000</td>\n",
       "      <td>0.000000</td>\n",
       "      <td>0.000000</td>\n",
       "      <td>...</td>\n",
       "      <td>0.000000</td>\n",
       "      <td>0.000000</td>\n",
       "      <td>0.000000</td>\n",
       "      <td>0.000000</td>\n",
       "      <td>0.000000</td>\n",
       "      <td>0.000000</td>\n",
       "      <td>0.000000</td>\n",
       "      <td>5.000000</td>\n",
       "      <td>2007.000000</td>\n",
       "      <td>129975.000000</td>\n",
       "    </tr>\n",
       "    <tr>\n",
       "      <th>50%</th>\n",
       "      <td>730.500000</td>\n",
       "      <td>50.000000</td>\n",
       "      <td>69.000000</td>\n",
       "      <td>9478.500000</td>\n",
       "      <td>6.000000</td>\n",
       "      <td>5.000000</td>\n",
       "      <td>1973.000000</td>\n",
       "      <td>1994.000000</td>\n",
       "      <td>0.000000</td>\n",
       "      <td>383.500000</td>\n",
       "      <td>...</td>\n",
       "      <td>0.000000</td>\n",
       "      <td>25.000000</td>\n",
       "      <td>0.000000</td>\n",
       "      <td>0.000000</td>\n",
       "      <td>0.000000</td>\n",
       "      <td>0.000000</td>\n",
       "      <td>0.000000</td>\n",
       "      <td>6.000000</td>\n",
       "      <td>2008.000000</td>\n",
       "      <td>163000.000000</td>\n",
       "    </tr>\n",
       "    <tr>\n",
       "      <th>75%</th>\n",
       "      <td>1095.250000</td>\n",
       "      <td>70.000000</td>\n",
       "      <td>80.000000</td>\n",
       "      <td>11601.500000</td>\n",
       "      <td>7.000000</td>\n",
       "      <td>6.000000</td>\n",
       "      <td>2000.000000</td>\n",
       "      <td>2004.000000</td>\n",
       "      <td>166.000000</td>\n",
       "      <td>712.250000</td>\n",
       "      <td>...</td>\n",
       "      <td>168.000000</td>\n",
       "      <td>68.000000</td>\n",
       "      <td>0.000000</td>\n",
       "      <td>0.000000</td>\n",
       "      <td>0.000000</td>\n",
       "      <td>0.000000</td>\n",
       "      <td>0.000000</td>\n",
       "      <td>8.000000</td>\n",
       "      <td>2009.000000</td>\n",
       "      <td>214000.000000</td>\n",
       "    </tr>\n",
       "    <tr>\n",
       "      <th>max</th>\n",
       "      <td>1460.000000</td>\n",
       "      <td>190.000000</td>\n",
       "      <td>313.000000</td>\n",
       "      <td>215245.000000</td>\n",
       "      <td>10.000000</td>\n",
       "      <td>9.000000</td>\n",
       "      <td>2010.000000</td>\n",
       "      <td>2010.000000</td>\n",
       "      <td>1600.000000</td>\n",
       "      <td>5644.000000</td>\n",
       "      <td>...</td>\n",
       "      <td>857.000000</td>\n",
       "      <td>547.000000</td>\n",
       "      <td>552.000000</td>\n",
       "      <td>508.000000</td>\n",
       "      <td>480.000000</td>\n",
       "      <td>738.000000</td>\n",
       "      <td>15500.000000</td>\n",
       "      <td>12.000000</td>\n",
       "      <td>2010.000000</td>\n",
       "      <td>755000.000000</td>\n",
       "    </tr>\n",
       "  </tbody>\n",
       "</table>\n",
       "<p>8 rows × 38 columns</p>\n",
       "</div>"
      ],
      "text/plain": [
       "                Id   MSSubClass  LotFrontage        LotArea  OverallQual  \\\n",
       "count  1460.000000  1460.000000  1201.000000    1460.000000  1460.000000   \n",
       "mean    730.500000    56.897260    70.049958   10516.828082     6.099315   \n",
       "std     421.610009    42.300571    24.284752    9981.264932     1.382997   \n",
       "min       1.000000    20.000000    21.000000    1300.000000     1.000000   \n",
       "25%     365.750000    20.000000    59.000000    7553.500000     5.000000   \n",
       "50%     730.500000    50.000000    69.000000    9478.500000     6.000000   \n",
       "75%    1095.250000    70.000000    80.000000   11601.500000     7.000000   \n",
       "max    1460.000000   190.000000   313.000000  215245.000000    10.000000   \n",
       "\n",
       "       OverallCond    YearBuilt  YearRemodAdd   MasVnrArea   BsmtFinSF1  ...  \\\n",
       "count  1460.000000  1460.000000   1460.000000  1452.000000  1460.000000  ...   \n",
       "mean      5.575342  1971.267808   1984.865753   103.685262   443.639726  ...   \n",
       "std       1.112799    30.202904     20.645407   181.066207   456.098091  ...   \n",
       "min       1.000000  1872.000000   1950.000000     0.000000     0.000000  ...   \n",
       "25%       5.000000  1954.000000   1967.000000     0.000000     0.000000  ...   \n",
       "50%       5.000000  1973.000000   1994.000000     0.000000   383.500000  ...   \n",
       "75%       6.000000  2000.000000   2004.000000   166.000000   712.250000  ...   \n",
       "max       9.000000  2010.000000   2010.000000  1600.000000  5644.000000  ...   \n",
       "\n",
       "        WoodDeckSF  OpenPorchSF  EnclosedPorch    3SsnPorch  ScreenPorch  \\\n",
       "count  1460.000000  1460.000000    1460.000000  1460.000000  1460.000000   \n",
       "mean     94.244521    46.660274      21.954110     3.409589    15.060959   \n",
       "std     125.338794    66.256028      61.119149    29.317331    55.757415   \n",
       "min       0.000000     0.000000       0.000000     0.000000     0.000000   \n",
       "25%       0.000000     0.000000       0.000000     0.000000     0.000000   \n",
       "50%       0.000000    25.000000       0.000000     0.000000     0.000000   \n",
       "75%     168.000000    68.000000       0.000000     0.000000     0.000000   \n",
       "max     857.000000   547.000000     552.000000   508.000000   480.000000   \n",
       "\n",
       "          PoolArea       MiscVal       MoSold       YrSold      SalePrice  \n",
       "count  1460.000000   1460.000000  1460.000000  1460.000000    1460.000000  \n",
       "mean      2.758904     43.489041     6.321918  2007.815753  180921.195890  \n",
       "std      40.177307    496.123024     2.703626     1.328095   79442.502883  \n",
       "min       0.000000      0.000000     1.000000  2006.000000   34900.000000  \n",
       "25%       0.000000      0.000000     5.000000  2007.000000  129975.000000  \n",
       "50%       0.000000      0.000000     6.000000  2008.000000  163000.000000  \n",
       "75%       0.000000      0.000000     8.000000  2009.000000  214000.000000  \n",
       "max     738.000000  15500.000000    12.000000  2010.000000  755000.000000  \n",
       "\n",
       "[8 rows x 38 columns]"
      ]
     },
     "execution_count": 20,
     "metadata": {},
     "output_type": "execute_result"
    }
   ],
   "source": [
    "main_data.describe()"
   ]
  },
  {
   "cell_type": "code",
   "execution_count": 21,
   "id": "b80fb9fb",
   "metadata": {
    "execution": {
     "iopub.execute_input": "2023-07-18T19:08:16.786325Z",
     "iopub.status.busy": "2023-07-18T19:08:16.785882Z",
     "iopub.status.idle": "2023-07-18T19:08:16.839596Z",
     "shell.execute_reply": "2023-07-18T19:08:16.838196Z"
    },
    "papermill": {
     "duration": 0.070934,
     "end_time": "2023-07-18T19:08:16.842228",
     "exception": false,
     "start_time": "2023-07-18T19:08:16.771294",
     "status": "completed"
    },
    "tags": []
   },
   "outputs": [
    {
     "data": {
      "text/plain": [
       "[{'LotFrontage': 259},\n",
       " {'Alley': 1369},\n",
       " {'MasVnrType': 872},\n",
       " {'MasVnrArea': 8},\n",
       " {'BsmtQual': 37},\n",
       " {'BsmtCond': 37},\n",
       " {'BsmtExposure': 38},\n",
       " {'BsmtFinType1': 37},\n",
       " {'BsmtFinType2': 38},\n",
       " {'Electrical': 1},\n",
       " {'FireplaceQu': 690},\n",
       " {'GarageType': 81},\n",
       " {'GarageYrBlt': 81},\n",
       " {'GarageFinish': 81},\n",
       " {'GarageQual': 81},\n",
       " {'GarageCond': 81},\n",
       " {'PoolQC': 1453},\n",
       " {'Fence': 1179},\n",
       " {'MiscFeature': 1406}]"
      ]
     },
     "execution_count": 21,
     "metadata": {},
     "output_type": "execute_result"
    }
   ],
   "source": [
    "# all missing columns\n",
    "missing_columns = [{i: c} for c, i in zip(main_data.isna().sum(), main_data.isna().sum().index) if c!=0]\n",
    "missing_columns"
   ]
  },
  {
   "attachments": {},
   "cell_type": "markdown",
   "id": "9709f5da",
   "metadata": {
    "papermill": {
     "duration": 0.01301,
     "end_time": "2023-07-18T19:08:16.868157",
     "exception": false,
     "start_time": "2023-07-18T19:08:16.855147",
     "status": "completed"
    },
    "tags": []
   },
   "source": [
    "## Data Preprocessing\n",
    "### Splitting data for Y for targeted value X for all others columns"
   ]
  },
  {
   "cell_type": "code",
   "execution_count": 22,
   "id": "d68f7798",
   "metadata": {
    "execution": {
     "iopub.execute_input": "2023-07-18T19:08:16.896180Z",
     "iopub.status.busy": "2023-07-18T19:08:16.895735Z",
     "iopub.status.idle": "2023-07-18T19:08:16.912497Z",
     "shell.execute_reply": "2023-07-18T19:08:16.910961Z"
    },
    "papermill": {
     "duration": 0.034272,
     "end_time": "2023-07-18T19:08:16.915469",
     "exception": false,
     "start_time": "2023-07-18T19:08:16.881197",
     "status": "completed"
    },
    "tags": []
   },
   "outputs": [],
   "source": [
    "y = main_data.SalePrice\n",
    "x = main_data.loc[:,[col for col in main_data.columns if col != y.name]]"
   ]
  },
  {
   "attachments": {},
   "cell_type": "markdown",
   "id": "c8d007c0",
   "metadata": {
    "papermill": {
     "duration": 0.012337,
     "end_time": "2023-07-18T19:08:16.940801",
     "exception": false,
     "start_time": "2023-07-18T19:08:16.928464",
     "status": "completed"
    },
    "tags": []
   },
   "source": [
    "#### X have all the values objects (string) and numeric (int, float) so specifying all those columns"
   ]
  },
  {
   "cell_type": "code",
   "execution_count": 23,
   "id": "509096c8",
   "metadata": {
    "execution": {
     "iopub.execute_input": "2023-07-18T19:08:16.967911Z",
     "iopub.status.busy": "2023-07-18T19:08:16.967505Z",
     "iopub.status.idle": "2023-07-18T19:08:16.997480Z",
     "shell.execute_reply": "2023-07-18T19:08:16.996488Z"
    },
    "papermill": {
     "duration": 0.046678,
     "end_time": "2023-07-18T19:08:17.000208",
     "exception": false,
     "start_time": "2023-07-18T19:08:16.953530",
     "status": "completed"
    },
    "tags": []
   },
   "outputs": [],
   "source": [
    "# all categorical columns name\n",
    "objects_columns = [col for col in main_data.columns if main_data[col].nunique() < 10 and main_data[col].dtype == 'object']\n",
    "\n",
    "# all numeric columns\n",
    "num_columns = [col for col in main_data.columns if main_data[col].dtype in ['int64', 'float64'] and col != y.name]\n",
    "\n",
    "# and the main columns from the catagorical and numric columns\n",
    "main_columns = objects_columns + num_columns"
   ]
  },
  {
   "attachments": {},
   "cell_type": "markdown",
   "id": "df40328f",
   "metadata": {
    "papermill": {
     "duration": 0.012362,
     "end_time": "2023-07-18T19:08:17.025832",
     "exception": false,
     "start_time": "2023-07-18T19:08:17.013470",
     "status": "completed"
    },
    "tags": []
   },
   "source": [
    "#### Now splitting X Y in 80 20"
   ]
  },
  {
   "cell_type": "code",
   "execution_count": 24,
   "id": "89ac0e8c",
   "metadata": {
    "execution": {
     "iopub.execute_input": "2023-07-18T19:08:17.054150Z",
     "iopub.status.busy": "2023-07-18T19:08:17.053736Z",
     "iopub.status.idle": "2023-07-18T19:08:17.065145Z",
     "shell.execute_reply": "2023-07-18T19:08:17.064051Z"
    },
    "papermill": {
     "duration": 0.028953,
     "end_time": "2023-07-18T19:08:17.068236",
     "exception": false,
     "start_time": "2023-07-18T19:08:17.039283",
     "status": "completed"
    },
    "tags": []
   },
   "outputs": [],
   "source": [
    "X_train_full, X_valid_full, y_train, y_valid = train_test_split(x, y, train_size=0.8, test_size=0.2,random_state=0)"
   ]
  },
  {
   "attachments": {},
   "cell_type": "markdown",
   "id": "cf9cdf56",
   "metadata": {
    "papermill": {
     "duration": 0.013759,
     "end_time": "2023-07-18T19:08:17.096213",
     "exception": false,
     "start_time": "2023-07-18T19:08:17.082454",
     "status": "completed"
    },
    "tags": []
   },
   "source": [
    "#### Removing all unnaccacry columns from X and keeping the main columns for objects and numeric and dealing with missing values"
   ]
  },
  {
   "cell_type": "code",
   "execution_count": 25,
   "id": "5b7c928e",
   "metadata": {
    "execution": {
     "iopub.execute_input": "2023-07-18T19:08:17.125766Z",
     "iopub.status.busy": "2023-07-18T19:08:17.125078Z",
     "iopub.status.idle": "2023-07-18T19:08:17.315795Z",
     "shell.execute_reply": "2023-07-18T19:08:17.314357Z"
    },
    "papermill": {
     "duration": 0.208805,
     "end_time": "2023-07-18T19:08:17.318729",
     "exception": false,
     "start_time": "2023-07-18T19:08:17.109924",
     "status": "completed"
    },
    "tags": []
   },
   "outputs": [],
   "source": [
    "X_train = X_train_full[main_columns].copy().fillna(X_train_full.mode().iloc[0], axis=0)\n",
    "X_valid = X_valid_full[main_columns].copy().fillna(X_valid_full.mode().iloc[0], axis=0)"
   ]
  },
  {
   "attachments": {},
   "cell_type": "markdown",
   "id": "d7a82f5b",
   "metadata": {
    "papermill": {
     "duration": 0.01341,
     "end_time": "2023-07-18T19:08:17.345950",
     "exception": false,
     "start_time": "2023-07-18T19:08:17.332540",
     "status": "completed"
    },
    "tags": []
   },
   "source": [
    "#### making objects columns useable by converting them to numbers"
   ]
  },
  {
   "cell_type": "code",
   "execution_count": 26,
   "id": "f3dd74d4",
   "metadata": {
    "execution": {
     "iopub.execute_input": "2023-07-18T19:08:17.375047Z",
     "iopub.status.busy": "2023-07-18T19:08:17.374591Z",
     "iopub.status.idle": "2023-07-18T19:08:17.383010Z",
     "shell.execute_reply": "2023-07-18T19:08:17.381593Z"
    },
    "papermill": {
     "duration": 0.025628,
     "end_time": "2023-07-18T19:08:17.385648",
     "exception": false,
     "start_time": "2023-07-18T19:08:17.360020",
     "status": "completed"
    },
    "tags": []
   },
   "outputs": [],
   "source": [
    "def encode(data):\n",
    "    # Extract numeric columns from the DataFrame\n",
    "    num_X = data.select_dtypes(exclude=['object'])\n",
    "    \n",
    "    # Extract object columns from the DataFrame\n",
    "    objects_columns = data.select_dtypes(include=['object']).columns.tolist()\n",
    "\n",
    "    # One-hot encode the object columns\n",
    "    encoder = OneHotEncoder(handle_unknown='ignore', sparse=False)\n",
    "    OH_cols = pd.DataFrame(encoder.fit_transform(data[objects_columns]))\n",
    "\n",
    "    # Set the index of the encoded DataFrame back to the original DataFrame's index\n",
    "    OH_cols.index = data.index\n",
    "\n",
    "    # Concatenate the one-hot encoded columns with the original numeric columns\n",
    "    OH_data = pd.concat([num_X, OH_cols], axis=1)\n",
    "\n",
    "    # Change column names to string\n",
    "    OH_data.columns = OH_data.columns.astype(str)\n",
    "    \n",
    "    # OH_X_train = OH_X_train.drop('Id', axis=1)\n",
    "    # OH_X_valid = OH_X_valid.drop('Id', axis=1)\n",
    "    return OH_data\n",
    "\n"
   ]
  },
  {
   "cell_type": "code",
   "execution_count": 27,
   "id": "a2ba89f2",
   "metadata": {
    "execution": {
     "iopub.execute_input": "2023-07-18T19:08:17.415654Z",
     "iopub.status.busy": "2023-07-18T19:08:17.413741Z",
     "iopub.status.idle": "2023-07-18T19:08:17.506316Z",
     "shell.execute_reply": "2023-07-18T19:08:17.505053Z"
    },
    "papermill": {
     "duration": 0.110516,
     "end_time": "2023-07-18T19:08:17.509491",
     "exception": false,
     "start_time": "2023-07-18T19:08:17.398975",
     "status": "completed"
    },
    "tags": []
   },
   "outputs": [
    {
     "name": "stderr",
     "output_type": "stream",
     "text": [
      "c:\\Users\\Abdul_Wahab\\Documents\\Kaggle\\Housing_Prices\\.venv\\lib\\site-packages\\sklearn\\preprocessing\\_encoders.py:868: FutureWarning: `sparse` was renamed to `sparse_output` in version 1.2 and will be removed in 1.4. `sparse_output` is ignored unless you leave `sparse` to its default value.\n",
      "  warnings.warn(\n",
      "c:\\Users\\Abdul_Wahab\\Documents\\Kaggle\\Housing_Prices\\.venv\\lib\\site-packages\\sklearn\\preprocessing\\_encoders.py:868: FutureWarning: `sparse` was renamed to `sparse_output` in version 1.2 and will be removed in 1.4. `sparse_output` is ignored unless you leave `sparse` to its default value.\n",
      "  warnings.warn(\n"
     ]
    }
   ],
   "source": [
    "OH_X_train = encode(X_train[main_columns])\n",
    "OH_X_valid = encode(X_valid[main_columns])\n",
    "\n",
    "# Drop the extra columns\n",
    "OH_X_train = OH_X_train.drop(set(OH_X_train.columns) - set(OH_X_valid.columns), axis=1)"
   ]
  },
  {
   "attachments": {},
   "cell_type": "markdown",
   "id": "a26f45b8",
   "metadata": {
    "papermill": {
     "duration": 0.01439,
     "end_time": "2023-07-18T19:08:17.543075",
     "exception": false,
     "start_time": "2023-07-18T19:08:17.528685",
     "status": "completed"
    },
    "tags": []
   },
   "source": [
    "#### Have a peek on columns"
   ]
  },
  {
   "cell_type": "code",
   "execution_count": 28,
   "id": "df3d6139",
   "metadata": {
    "execution": {
     "iopub.execute_input": "2023-07-18T19:08:17.587751Z",
     "iopub.status.busy": "2023-07-18T19:08:17.586923Z",
     "iopub.status.idle": "2023-07-18T19:08:17.596301Z",
     "shell.execute_reply": "2023-07-18T19:08:17.595338Z"
    },
    "papermill": {
     "duration": 0.035454,
     "end_time": "2023-07-18T19:08:17.599318",
     "exception": false,
     "start_time": "2023-07-18T19:08:17.563864",
     "status": "completed"
    },
    "tags": []
   },
   "outputs": [
    {
     "data": {
      "text/plain": [
       "(Index(['Id', 'MSSubClass', 'LotFrontage', 'LotArea', 'OverallQual',\n",
       "        'OverallCond', 'YearBuilt', 'YearRemodAdd', 'MasVnrArea', 'BsmtFinSF1',\n",
       "        ...\n",
       "        '161', '162', '163', '164', '165', '166', '167', '168', '169', '170'],\n",
       "       dtype='object', length=208),\n",
       " Index(['Id', 'MSSubClass', 'LotFrontage', 'LotArea', 'OverallQual',\n",
       "        'OverallCond', 'YearBuilt', 'YearRemodAdd', 'MasVnrArea', 'BsmtFinSF1',\n",
       "        ...\n",
       "        '161', '162', '163', '164', '165', '166', '167', '168', '169', '170'],\n",
       "       dtype='object', length=208))"
      ]
     },
     "execution_count": 28,
     "metadata": {},
     "output_type": "execute_result"
    }
   ],
   "source": [
    "OH_X_train.columns, OH_X_valid.columns"
   ]
  },
  {
   "attachments": {},
   "cell_type": "markdown",
   "id": "bb0f6746",
   "metadata": {
    "papermill": {
     "duration": 0.013631,
     "end_time": "2023-07-18T19:08:17.632215",
     "exception": false,
     "start_time": "2023-07-18T19:08:17.618584",
     "status": "completed"
    },
    "tags": []
   },
   "source": [
    "#### Chacking for best Random State for RandomForestRegressor model"
   ]
  },
  {
   "cell_type": "code",
   "execution_count": 29,
   "id": "9d39464b",
   "metadata": {
    "execution": {
     "iopub.execute_input": "2023-07-18T19:08:17.661563Z",
     "iopub.status.busy": "2023-07-18T19:08:17.660803Z",
     "iopub.status.idle": "2023-07-18T19:08:17.668542Z",
     "shell.execute_reply": "2023-07-18T19:08:17.667168Z"
    },
    "papermill": {
     "duration": 0.024866,
     "end_time": "2023-07-18T19:08:17.671022",
     "exception": false,
     "start_time": "2023-07-18T19:08:17.646156",
     "status": "completed"
    },
    "tags": []
   },
   "outputs": [
    {
     "data": {
      "text/plain": [
       "' Output\\n0 81.00239996096795 20113.006575342468\\n10 81.93492735814971 19928.571301369862\\n20 82.84361064486032 19638.9152739726\\n30 82.68003296543742 19475.248801369864\\n40 82.29126719721782 19408.823630136987\\n50 81.6248034703422 20226.431952054794\\n60 81.27071179147688 19774.016815068495\\n'"
      ]
     },
     "execution_count": 29,
     "metadata": {},
     "output_type": "execute_result"
    }
   ],
   "source": [
    "# for i in range(0, 70, 10):\n",
    "#     model = RandomForestRegressor(n_estimators=100, random_state=i)\n",
    "#     model.fit(OH_X_train, y_train)\n",
    "#     pred = model.predict(OH_X_valid)\n",
    "#     r_squared = r2_score(y_valid, pred)\n",
    "#     mae = mean_absolute_error(pred, y_valid)\n",
    "#     print(i, r_squared * 100, mae)\n",
    "\n",
    "''' Output\n",
    "0 81.00239996096795 20113.006575342468\n",
    "10 81.93492735814971 19928.571301369862\n",
    "20 82.84361064486032 19638.9152739726\n",
    "30 82.68003296543742 19475.248801369864\n",
    "40 82.29126719721782 19408.823630136987\n",
    "50 81.6248034703422 20226.431952054794\n",
    "60 81.27071179147688 19774.016815068495\n",
    "'''"
   ]
  },
  {
   "attachments": {},
   "cell_type": "markdown",
   "id": "222ff8b1",
   "metadata": {
    "papermill": {
     "duration": 0.012844,
     "end_time": "2023-07-18T19:08:17.697603",
     "exception": false,
     "start_time": "2023-07-18T19:08:17.684759",
     "status": "completed"
    },
    "tags": []
   },
   "source": [
    "### Testing a new Regressor model"
   ]
  },
  {
   "cell_type": "code",
   "execution_count": 30,
   "id": "28720019",
   "metadata": {
    "execution": {
     "iopub.execute_input": "2023-07-18T19:08:17.726771Z",
     "iopub.status.busy": "2023-07-18T19:08:17.726209Z",
     "iopub.status.idle": "2023-07-18T19:08:17.733247Z",
     "shell.execute_reply": "2023-07-18T19:08:17.731819Z"
    },
    "papermill": {
     "duration": 0.024651,
     "end_time": "2023-07-18T19:08:17.735548",
     "exception": false,
     "start_time": "2023-07-18T19:08:17.710897",
     "status": "completed"
    },
    "tags": []
   },
   "outputs": [
    {
     "data": {
      "text/plain": [
       "' Output\\n1 0.8269842566963943 24563.841235017124\\n2 0.8465367621135315 20929.216395547945\\n3 0.8280859347124082 20789.897313784248\\n4 0.8205225163694913 21451.045135916094\\n5 0.8224882389947964 20989.45890410959\\n6 0.8264109677733431 21031.550433433218\\n'"
      ]
     },
     "execution_count": 30,
     "metadata": {},
     "output_type": "execute_result"
    }
   ],
   "source": [
    "# for i in range(1, 7):\n",
    "#     model2 = XGBRegressor(n_estimators=500, learning_rate=0.05, max_depth=i, subsample=0.8, colsample_bytree=0.8)\n",
    "#     model2.fit(OH_X_train, y_train)\n",
    "#     pred2 = model2.predict(OH_X_valid)\n",
    "#     r_squared = r2_score(y_valid, pred2)\n",
    "#     mae = mean_absolute_error(pred2, y_valid)\n",
    "#     print(i, r_squared, mae)\n",
    "''' Output\n",
    "1 0.8269842566963943 24563.841235017124\n",
    "2 0.8465367621135315 20929.216395547945\n",
    "3 0.8280859347124082 20789.897313784248\n",
    "4 0.8205225163694913 21451.045135916094\n",
    "5 0.8224882389947964 20989.45890410959\n",
    "6 0.8264109677733431 21031.550433433218\n",
    "'''"
   ]
  },
  {
   "cell_type": "code",
   "execution_count": 31,
   "id": "b189568a",
   "metadata": {
    "execution": {
     "iopub.execute_input": "2023-07-18T19:08:17.765239Z",
     "iopub.status.busy": "2023-07-18T19:08:17.764490Z",
     "iopub.status.idle": "2023-07-18T19:08:17.770280Z",
     "shell.execute_reply": "2023-07-18T19:08:17.769068Z"
    },
    "papermill": {
     "duration": 0.023287,
     "end_time": "2023-07-18T19:08:17.772994",
     "exception": false,
     "start_time": "2023-07-18T19:08:17.749707",
     "status": "completed"
    },
    "tags": []
   },
   "outputs": [],
   "source": [
    "pd.reset_option('display.max_rows')"
   ]
  },
  {
   "attachments": {},
   "cell_type": "markdown",
   "id": "21dbfefc",
   "metadata": {
    "papermill": {
     "duration": 0.013335,
     "end_time": "2023-07-18T19:08:17.799940",
     "exception": false,
     "start_time": "2023-07-18T19:08:17.786605",
     "status": "completed"
    },
    "tags": []
   },
   "source": [
    "## Making submition"
   ]
  },
  {
   "cell_type": "code",
   "execution_count": 32,
   "id": "46ff4be2",
   "metadata": {
    "execution": {
     "iopub.execute_input": "2023-07-18T19:08:17.829731Z",
     "iopub.status.busy": "2023-07-18T19:08:17.828667Z",
     "iopub.status.idle": "2023-07-18T19:08:17.872700Z",
     "shell.execute_reply": "2023-07-18T19:08:17.870909Z"
    },
    "papermill": {
     "duration": 0.062217,
     "end_time": "2023-07-18T19:08:17.875498",
     "exception": false,
     "start_time": "2023-07-18T19:08:17.813281",
     "status": "completed"
    },
    "tags": []
   },
   "outputs": [],
   "source": [
    "test_data_all = pd.read_csv(test_data_path)\n",
    "test_data = test_data_all.loc[:,main_columns]"
   ]
  },
  {
   "cell_type": "code",
   "execution_count": 33,
   "id": "255b6e10",
   "metadata": {
    "execution": {
     "iopub.execute_input": "2023-07-18T19:08:17.904520Z",
     "iopub.status.busy": "2023-07-18T19:08:17.904038Z",
     "iopub.status.idle": "2023-07-18T19:08:17.911379Z",
     "shell.execute_reply": "2023-07-18T19:08:17.910389Z"
    },
    "papermill": {
     "duration": 0.024286,
     "end_time": "2023-07-18T19:08:17.913661",
     "exception": false,
     "start_time": "2023-07-18T19:08:17.889375",
     "status": "completed"
    },
    "tags": []
   },
   "outputs": [
    {
     "data": {
      "text/plain": [
       "(1459, 80)"
      ]
     },
     "execution_count": 33,
     "metadata": {},
     "output_type": "execute_result"
    }
   ],
   "source": [
    "test_data_all.shape"
   ]
  },
  {
   "attachments": {},
   "cell_type": "markdown",
   "id": "05c570a9",
   "metadata": {
    "papermill": {
     "duration": 0.012961,
     "end_time": "2023-07-18T19:08:17.940513",
     "exception": false,
     "start_time": "2023-07-18T19:08:17.927552",
     "status": "completed"
    },
    "tags": []
   },
   "source": [
    "Cahacking for missing values"
   ]
  },
  {
   "cell_type": "code",
   "execution_count": 34,
   "id": "f8026fa1",
   "metadata": {
    "execution": {
     "iopub.execute_input": "2023-07-18T19:08:17.970131Z",
     "iopub.status.busy": "2023-07-18T19:08:17.969339Z",
     "iopub.status.idle": "2023-07-18T19:08:17.996383Z",
     "shell.execute_reply": "2023-07-18T19:08:17.995104Z"
    },
    "papermill": {
     "duration": 0.044923,
     "end_time": "2023-07-18T19:08:17.998827",
     "exception": false,
     "start_time": "2023-07-18T19:08:17.953904",
     "status": "completed"
    },
    "tags": []
   },
   "outputs": [
    {
     "data": {
      "text/plain": [
       "True"
      ]
     },
     "execution_count": 34,
     "metadata": {},
     "output_type": "execute_result"
    }
   ],
   "source": [
    "test_data.isna().any().any()"
   ]
  },
  {
   "cell_type": "code",
   "execution_count": 35,
   "id": "92033784",
   "metadata": {
    "execution": {
     "iopub.execute_input": "2023-07-18T19:08:18.028753Z",
     "iopub.status.busy": "2023-07-18T19:08:18.028244Z",
     "iopub.status.idle": "2023-07-18T19:08:18.136003Z",
     "shell.execute_reply": "2023-07-18T19:08:18.134483Z"
    },
    "papermill": {
     "duration": 0.126014,
     "end_time": "2023-07-18T19:08:18.139098",
     "exception": false,
     "start_time": "2023-07-18T19:08:18.013084",
     "status": "completed"
    },
    "tags": []
   },
   "outputs": [],
   "source": [
    "X_submit = test_data[main_columns].copy().fillna(X_train_full.mode().iloc[0], axis=0)"
   ]
  },
  {
   "cell_type": "code",
   "execution_count": 36,
   "id": "a8174750",
   "metadata": {
    "execution": {
     "iopub.execute_input": "2023-07-18T19:08:18.168874Z",
     "iopub.status.busy": "2023-07-18T19:08:18.168393Z",
     "iopub.status.idle": "2023-07-18T19:08:18.178286Z",
     "shell.execute_reply": "2023-07-18T19:08:18.177064Z"
    },
    "papermill": {
     "duration": 0.027551,
     "end_time": "2023-07-18T19:08:18.180717",
     "exception": false,
     "start_time": "2023-07-18T19:08:18.153166",
     "status": "completed"
    },
    "tags": []
   },
   "outputs": [],
   "source": [
    "# combining\n",
    "OH_X_train_combined = pd.concat([OH_X_train, OH_X_valid])\n",
    "y_train_combined = pd.concat([y_train, y_valid], axis = 0)"
   ]
  },
  {
   "cell_type": "code",
   "execution_count": 37,
   "id": "371b325d",
   "metadata": {
    "execution": {
     "iopub.execute_input": "2023-07-18T19:08:18.210015Z",
     "iopub.status.busy": "2023-07-18T19:08:18.209622Z",
     "iopub.status.idle": "2023-07-18T19:08:18.273670Z",
     "shell.execute_reply": "2023-07-18T19:08:18.272271Z"
    },
    "papermill": {
     "duration": 0.081674,
     "end_time": "2023-07-18T19:08:18.276295",
     "exception": false,
     "start_time": "2023-07-18T19:08:18.194621",
     "status": "completed"
    },
    "tags": []
   },
   "outputs": [
    {
     "name": "stderr",
     "output_type": "stream",
     "text": [
      "c:\\Users\\Abdul_Wahab\\Documents\\Kaggle\\Housing_Prices\\.venv\\lib\\site-packages\\sklearn\\preprocessing\\_encoders.py:868: FutureWarning: `sparse` was renamed to `sparse_output` in version 1.2 and will be removed in 1.4. `sparse_output` is ignored unless you leave `sparse` to its default value.\n",
      "  warnings.warn(\n"
     ]
    }
   ],
   "source": [
    "x_submit = encode(X_submit)\n",
    "x_submit = x_submit.drop(set(x_submit.columns) - set(OH_X_valid.columns), axis=1)"
   ]
  },
  {
   "cell_type": "code",
   "execution_count": 38,
   "id": "1be5fbd2",
   "metadata": {
    "execution": {
     "iopub.execute_input": "2023-07-18T19:08:18.308371Z",
     "iopub.status.busy": "2023-07-18T19:08:18.307932Z",
     "iopub.status.idle": "2023-07-18T19:08:21.323782Z",
     "shell.execute_reply": "2023-07-18T19:08:21.322579Z"
    },
    "papermill": {
     "duration": 3.036236,
     "end_time": "2023-07-18T19:08:21.326631",
     "exception": false,
     "start_time": "2023-07-18T19:08:18.290395",
     "status": "completed"
    },
    "tags": []
   },
   "outputs": [
    {
     "data": {
      "text/html": [
       "<style>#sk-container-id-1 {color: black;background-color: white;}#sk-container-id-1 pre{padding: 0;}#sk-container-id-1 div.sk-toggleable {background-color: white;}#sk-container-id-1 label.sk-toggleable__label {cursor: pointer;display: block;width: 100%;margin-bottom: 0;padding: 0.3em;box-sizing: border-box;text-align: center;}#sk-container-id-1 label.sk-toggleable__label-arrow:before {content: \"▸\";float: left;margin-right: 0.25em;color: #696969;}#sk-container-id-1 label.sk-toggleable__label-arrow:hover:before {color: black;}#sk-container-id-1 div.sk-estimator:hover label.sk-toggleable__label-arrow:before {color: black;}#sk-container-id-1 div.sk-toggleable__content {max-height: 0;max-width: 0;overflow: hidden;text-align: left;background-color: #f0f8ff;}#sk-container-id-1 div.sk-toggleable__content pre {margin: 0.2em;color: black;border-radius: 0.25em;background-color: #f0f8ff;}#sk-container-id-1 input.sk-toggleable__control:checked~div.sk-toggleable__content {max-height: 200px;max-width: 100%;overflow: auto;}#sk-container-id-1 input.sk-toggleable__control:checked~label.sk-toggleable__label-arrow:before {content: \"▾\";}#sk-container-id-1 div.sk-estimator input.sk-toggleable__control:checked~label.sk-toggleable__label {background-color: #d4ebff;}#sk-container-id-1 div.sk-label input.sk-toggleable__control:checked~label.sk-toggleable__label {background-color: #d4ebff;}#sk-container-id-1 input.sk-hidden--visually {border: 0;clip: rect(1px 1px 1px 1px);clip: rect(1px, 1px, 1px, 1px);height: 1px;margin: -1px;overflow: hidden;padding: 0;position: absolute;width: 1px;}#sk-container-id-1 div.sk-estimator {font-family: monospace;background-color: #f0f8ff;border: 1px dotted black;border-radius: 0.25em;box-sizing: border-box;margin-bottom: 0.5em;}#sk-container-id-1 div.sk-estimator:hover {background-color: #d4ebff;}#sk-container-id-1 div.sk-parallel-item::after {content: \"\";width: 100%;border-bottom: 1px solid gray;flex-grow: 1;}#sk-container-id-1 div.sk-label:hover label.sk-toggleable__label {background-color: #d4ebff;}#sk-container-id-1 div.sk-serial::before {content: \"\";position: absolute;border-left: 1px solid gray;box-sizing: border-box;top: 0;bottom: 0;left: 50%;z-index: 0;}#sk-container-id-1 div.sk-serial {display: flex;flex-direction: column;align-items: center;background-color: white;padding-right: 0.2em;padding-left: 0.2em;position: relative;}#sk-container-id-1 div.sk-item {position: relative;z-index: 1;}#sk-container-id-1 div.sk-parallel {display: flex;align-items: stretch;justify-content: center;background-color: white;position: relative;}#sk-container-id-1 div.sk-item::before, #sk-container-id-1 div.sk-parallel-item::before {content: \"\";position: absolute;border-left: 1px solid gray;box-sizing: border-box;top: 0;bottom: 0;left: 50%;z-index: -1;}#sk-container-id-1 div.sk-parallel-item {display: flex;flex-direction: column;z-index: 1;position: relative;background-color: white;}#sk-container-id-1 div.sk-parallel-item:first-child::after {align-self: flex-end;width: 50%;}#sk-container-id-1 div.sk-parallel-item:last-child::after {align-self: flex-start;width: 50%;}#sk-container-id-1 div.sk-parallel-item:only-child::after {width: 0;}#sk-container-id-1 div.sk-dashed-wrapped {border: 1px dashed gray;margin: 0 0.4em 0.5em 0.4em;box-sizing: border-box;padding-bottom: 0.4em;background-color: white;}#sk-container-id-1 div.sk-label label {font-family: monospace;font-weight: bold;display: inline-block;line-height: 1.2em;}#sk-container-id-1 div.sk-label-container {text-align: center;}#sk-container-id-1 div.sk-container {/* jupyter's `normalize.less` sets `[hidden] { display: none; }` but bootstrap.min.css set `[hidden] { display: none !important; }` so we also need the `!important` here to be able to override the default hidden behavior on the sphinx rendered scikit-learn.org. See: https://github.com/scikit-learn/scikit-learn/issues/21755 */display: inline-block !important;position: relative;}#sk-container-id-1 div.sk-text-repr-fallback {display: none;}</style><div id=\"sk-container-id-1\" class=\"sk-top-container\"><div class=\"sk-text-repr-fallback\"><pre>XGBRegressor(base_score=None, booster=None, callbacks=None,\n",
       "             colsample_bylevel=None, colsample_bynode=None,\n",
       "             colsample_bytree=0.8, early_stopping_rounds=None,\n",
       "             enable_categorical=False, eval_metric=None, feature_types=None,\n",
       "             gamma=None, gpu_id=None, grow_policy=None, importance_type=None,\n",
       "             interaction_constraints=None, learning_rate=0.05, max_bin=None,\n",
       "             max_cat_threshold=None, max_cat_to_onehot=None,\n",
       "             max_delta_step=None, max_depth=4, max_leaves=None,\n",
       "             min_child_weight=None, missing=nan, monotone_constraints=None,\n",
       "             n_estimators=500, n_jobs=None, num_parallel_tree=None,\n",
       "             predictor=None, random_state=None, ...)</pre><b>In a Jupyter environment, please rerun this cell to show the HTML representation or trust the notebook. <br />On GitHub, the HTML representation is unable to render, please try loading this page with nbviewer.org.</b></div><div class=\"sk-container\" hidden><div class=\"sk-item\"><div class=\"sk-estimator sk-toggleable\"><input class=\"sk-toggleable__control sk-hidden--visually\" id=\"sk-estimator-id-1\" type=\"checkbox\" checked><label for=\"sk-estimator-id-1\" class=\"sk-toggleable__label sk-toggleable__label-arrow\">XGBRegressor</label><div class=\"sk-toggleable__content\"><pre>XGBRegressor(base_score=None, booster=None, callbacks=None,\n",
       "             colsample_bylevel=None, colsample_bynode=None,\n",
       "             colsample_bytree=0.8, early_stopping_rounds=None,\n",
       "             enable_categorical=False, eval_metric=None, feature_types=None,\n",
       "             gamma=None, gpu_id=None, grow_policy=None, importance_type=None,\n",
       "             interaction_constraints=None, learning_rate=0.05, max_bin=None,\n",
       "             max_cat_threshold=None, max_cat_to_onehot=None,\n",
       "             max_delta_step=None, max_depth=4, max_leaves=None,\n",
       "             min_child_weight=None, missing=nan, monotone_constraints=None,\n",
       "             n_estimators=500, n_jobs=None, num_parallel_tree=None,\n",
       "             predictor=None, random_state=None, ...)</pre></div></div></div></div></div>"
      ],
      "text/plain": [
       "XGBRegressor(base_score=None, booster=None, callbacks=None,\n",
       "             colsample_bylevel=None, colsample_bynode=None,\n",
       "             colsample_bytree=0.8, early_stopping_rounds=None,\n",
       "             enable_categorical=False, eval_metric=None, feature_types=None,\n",
       "             gamma=None, gpu_id=None, grow_policy=None, importance_type=None,\n",
       "             interaction_constraints=None, learning_rate=0.05, max_bin=None,\n",
       "             max_cat_threshold=None, max_cat_to_onehot=None,\n",
       "             max_delta_step=None, max_depth=4, max_leaves=None,\n",
       "             min_child_weight=None, missing=nan, monotone_constraints=None,\n",
       "             n_estimators=500, n_jobs=None, num_parallel_tree=None,\n",
       "             predictor=None, random_state=None, ...)"
      ]
     },
     "execution_count": 38,
     "metadata": {},
     "output_type": "execute_result"
    }
   ],
   "source": [
    "model = XGBRegressor(n_estimators=500, learning_rate=0.05, max_depth=4, subsample=0.8, colsample_bytree=0.8)\n",
    "model.fit(OH_X_train_combined, y_train_combined)"
   ]
  },
  {
   "cell_type": "code",
   "execution_count": 39,
   "id": "df80e362",
   "metadata": {
    "execution": {
     "iopub.execute_input": "2023-07-18T19:08:21.357657Z",
     "iopub.status.busy": "2023-07-18T19:08:21.356864Z",
     "iopub.status.idle": "2023-07-18T19:08:21.389826Z",
     "shell.execute_reply": "2023-07-18T19:08:21.388503Z"
    },
    "papermill": {
     "duration": 0.053863,
     "end_time": "2023-07-18T19:08:21.394912",
     "exception": false,
     "start_time": "2023-07-18T19:08:21.341049",
     "status": "completed"
    },
    "tags": []
   },
   "outputs": [
    {
     "data": {
      "text/plain": [
       "(1459,)"
      ]
     },
     "execution_count": 39,
     "metadata": {},
     "output_type": "execute_result"
    }
   ],
   "source": [
    "prediction = pd.Series(model.predict(x_submit))\n",
    "prediction.shape"
   ]
  },
  {
   "cell_type": "code",
   "execution_count": 40,
   "id": "9b8e8edb",
   "metadata": {
    "execution": {
     "iopub.execute_input": "2023-07-18T19:08:21.427052Z",
     "iopub.status.busy": "2023-07-18T19:08:21.426656Z",
     "iopub.status.idle": "2023-07-18T19:08:21.433195Z",
     "shell.execute_reply": "2023-07-18T19:08:21.431864Z"
    },
    "papermill": {
     "duration": 0.02494,
     "end_time": "2023-07-18T19:08:21.435728",
     "exception": false,
     "start_time": "2023-07-18T19:08:21.410788",
     "status": "completed"
    },
    "tags": []
   },
   "outputs": [],
   "source": [
    "submitition = pd.DataFrame({'Id':test_data_all.Id, 'SalePrice':prediction})"
   ]
  },
  {
   "cell_type": "code",
   "execution_count": 41,
   "id": "915bf3b3",
   "metadata": {
    "execution": {
     "iopub.execute_input": "2023-07-18T19:08:21.466133Z",
     "iopub.status.busy": "2023-07-18T19:08:21.465736Z",
     "iopub.status.idle": "2023-07-18T19:08:21.480794Z",
     "shell.execute_reply": "2023-07-18T19:08:21.479528Z"
    },
    "papermill": {
     "duration": 0.033493,
     "end_time": "2023-07-18T19:08:21.483555",
     "exception": false,
     "start_time": "2023-07-18T19:08:21.450062",
     "status": "completed"
    },
    "tags": []
   },
   "outputs": [],
   "source": [
    "submitition.to_csv('submission.csv', index=False)"
   ]
  },
  {
   "cell_type": "code",
   "execution_count": null,
   "id": "db8e84d1",
   "metadata": {
    "papermill": {
     "duration": 0.01486,
     "end_time": "2023-07-18T19:08:21.512714",
     "exception": false,
     "start_time": "2023-07-18T19:08:21.497854",
     "status": "completed"
    },
    "tags": []
   },
   "outputs": [],
   "source": []
  }
 ],
 "metadata": {
  "kernelspec": {
   "display_name": "Python 3",
   "language": "python",
   "name": "python3"
  },
  "language_info": {
   "codemirror_mode": {
    "name": "ipython",
    "version": 3
   },
   "file_extension": ".py",
   "mimetype": "text/x-python",
   "name": "python",
   "nbconvert_exporter": "python",
   "pygments_lexer": "ipython3",
   "version": "3.9.12"
  },
  "papermill": {
   "default_parameters": {},
   "duration": 22.894245,
   "end_time": "2023-07-18T19:08:22.652100",
   "environment_variables": {},
   "exception": null,
   "input_path": "__notebook__.ipynb",
   "output_path": "__notebook__.ipynb",
   "parameters": {},
   "start_time": "2023-07-18T19:07:59.757855",
   "version": "2.4.0"
  }
 },
 "nbformat": 4,
 "nbformat_minor": 5
}
